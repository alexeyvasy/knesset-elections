{
 "cells": [
  {
   "cell_type": "code",
   "execution_count": 11,
   "metadata": {},
   "outputs": [],
   "source": [
    "import pandas as pd\n",
    "import scipy as sc\n",
    "import numpy as np\n",
    "import statsmodels.formula.api as sm\n",
    "import matplotlib.pyplot as plt\n",
    "import seaborn as sb\n"
   ]
  },
  {
   "cell_type": "markdown",
   "metadata": {},
   "source": [
    "Loading and cleaning the Elections data into 8 different Dataframes:"
   ]
  },
  {
   "cell_type": "code",
   "execution_count": 13,
   "metadata": {},
   "outputs": [
    {
     "ename": "KeyError",
     "evalue": "\"['\\\\xd7\\\\x9e\\\\xd7\\\\xa1\\\\xd7\\\\xa4\\\\xd7\\\\xa8 \\\\xd7\\\\xa7\\\\xd7\\\\x9c\\\\xd7\\\\xa4\\\\xd7\\\\x99'] not found in axis\"",
     "output_type": "error",
     "traceback": [
      "\u001b[0;31m---------------------------------------------------------------------------\u001b[0m",
      "\u001b[0;31mKeyError\u001b[0m                                  Traceback (most recent call last)",
      "\u001b[0;32m<ipython-input-13-5888db5bd426>\u001b[0m in \u001b[0;36m<module>\u001b[0;34m()\u001b[0m\n\u001b[1;32m      1\u001b[0m \u001b[0mknesset21elections\u001b[0m \u001b[0;34m=\u001b[0m \u001b[0mpd\u001b[0m\u001b[0;34m.\u001b[0m\u001b[0mread_excel\u001b[0m\u001b[0;34m(\u001b[0m\u001b[0;34mr\"Knesset Elections/-21-.xlsx\"\u001b[0m\u001b[0;34m)\u001b[0m\u001b[0;34m\u001b[0m\u001b[0m\n\u001b[0;32m----> 2\u001b[0;31m \u001b[0mknesset21elections\u001b[0m \u001b[0;34m=\u001b[0m \u001b[0mknesset21elections\u001b[0m\u001b[0;34m.\u001b[0m\u001b[0mdrop\u001b[0m\u001b[0;34m(\u001b[0m\u001b[0;34m\"מספר קלפי\"\u001b[0m\u001b[0;34m,\u001b[0m \u001b[0maxis\u001b[0m\u001b[0;34m=\u001b[0m\u001b[0;36m1\u001b[0m\u001b[0;34m)\u001b[0m\u001b[0;34m\u001b[0m\u001b[0m\n\u001b[0m\u001b[1;32m      3\u001b[0m \u001b[0mknesset21elections\u001b[0m \u001b[0;34m=\u001b[0m \u001b[0mknesset21elections\u001b[0m\u001b[0;34m.\u001b[0m\u001b[0mgroupby\u001b[0m\u001b[0;34m(\u001b[0m\u001b[0mby\u001b[0m\u001b[0;34m=\u001b[0m\u001b[0;34m[\u001b[0m\u001b[0;34m\"שם ישוב\"\u001b[0m\u001b[0;34m,\u001b[0m\u001b[0;34m\"סמל ישוב\"\u001b[0m \u001b[0;34m]\u001b[0m\u001b[0;34m,\u001b[0m \u001b[0maxis\u001b[0m\u001b[0;34m=\u001b[0m\u001b[0;36m0\u001b[0m\u001b[0;34m)\u001b[0m\u001b[0;34m.\u001b[0m\u001b[0msum\u001b[0m\u001b[0;34m(\u001b[0m\u001b[0;34m)\u001b[0m\u001b[0;34m\u001b[0m\u001b[0m\n\u001b[1;32m      4\u001b[0m \u001b[0;34m\u001b[0m\u001b[0m\n\u001b[1;32m      5\u001b[0m \u001b[0;34m\u001b[0m\u001b[0m\n",
      "\u001b[0;32m/anaconda2/lib/python2.7/site-packages/pandas/core/frame.pyc\u001b[0m in \u001b[0;36mdrop\u001b[0;34m(self, labels, axis, index, columns, level, inplace, errors)\u001b[0m\n\u001b[1;32m   3938\u001b[0m                                            \u001b[0mindex\u001b[0m\u001b[0;34m=\u001b[0m\u001b[0mindex\u001b[0m\u001b[0;34m,\u001b[0m \u001b[0mcolumns\u001b[0m\u001b[0;34m=\u001b[0m\u001b[0mcolumns\u001b[0m\u001b[0;34m,\u001b[0m\u001b[0;34m\u001b[0m\u001b[0m\n\u001b[1;32m   3939\u001b[0m                                            \u001b[0mlevel\u001b[0m\u001b[0;34m=\u001b[0m\u001b[0mlevel\u001b[0m\u001b[0;34m,\u001b[0m \u001b[0minplace\u001b[0m\u001b[0;34m=\u001b[0m\u001b[0minplace\u001b[0m\u001b[0;34m,\u001b[0m\u001b[0;34m\u001b[0m\u001b[0m\n\u001b[0;32m-> 3940\u001b[0;31m                                            errors=errors)\n\u001b[0m\u001b[1;32m   3941\u001b[0m \u001b[0;34m\u001b[0m\u001b[0m\n\u001b[1;32m   3942\u001b[0m     @rewrite_axis_style_signature('mapper', [('copy', True),\n",
      "\u001b[0;32m/anaconda2/lib/python2.7/site-packages/pandas/core/generic.pyc\u001b[0m in \u001b[0;36mdrop\u001b[0;34m(self, labels, axis, index, columns, level, inplace, errors)\u001b[0m\n\u001b[1;32m   3778\u001b[0m         \u001b[0;32mfor\u001b[0m \u001b[0maxis\u001b[0m\u001b[0;34m,\u001b[0m \u001b[0mlabels\u001b[0m \u001b[0;32min\u001b[0m \u001b[0maxes\u001b[0m\u001b[0;34m.\u001b[0m\u001b[0mitems\u001b[0m\u001b[0;34m(\u001b[0m\u001b[0;34m)\u001b[0m\u001b[0;34m:\u001b[0m\u001b[0;34m\u001b[0m\u001b[0m\n\u001b[1;32m   3779\u001b[0m             \u001b[0;32mif\u001b[0m \u001b[0mlabels\u001b[0m \u001b[0;32mis\u001b[0m \u001b[0;32mnot\u001b[0m \u001b[0mNone\u001b[0m\u001b[0;34m:\u001b[0m\u001b[0;34m\u001b[0m\u001b[0m\n\u001b[0;32m-> 3780\u001b[0;31m                 \u001b[0mobj\u001b[0m \u001b[0;34m=\u001b[0m \u001b[0mobj\u001b[0m\u001b[0;34m.\u001b[0m\u001b[0m_drop_axis\u001b[0m\u001b[0;34m(\u001b[0m\u001b[0mlabels\u001b[0m\u001b[0;34m,\u001b[0m \u001b[0maxis\u001b[0m\u001b[0;34m,\u001b[0m \u001b[0mlevel\u001b[0m\u001b[0;34m=\u001b[0m\u001b[0mlevel\u001b[0m\u001b[0;34m,\u001b[0m \u001b[0merrors\u001b[0m\u001b[0;34m=\u001b[0m\u001b[0merrors\u001b[0m\u001b[0;34m)\u001b[0m\u001b[0;34m\u001b[0m\u001b[0m\n\u001b[0m\u001b[1;32m   3781\u001b[0m \u001b[0;34m\u001b[0m\u001b[0m\n\u001b[1;32m   3782\u001b[0m         \u001b[0;32mif\u001b[0m \u001b[0minplace\u001b[0m\u001b[0;34m:\u001b[0m\u001b[0;34m\u001b[0m\u001b[0m\n",
      "\u001b[0;32m/anaconda2/lib/python2.7/site-packages/pandas/core/generic.pyc\u001b[0m in \u001b[0;36m_drop_axis\u001b[0;34m(self, labels, axis, level, errors)\u001b[0m\n\u001b[1;32m   3810\u001b[0m                 \u001b[0mnew_axis\u001b[0m \u001b[0;34m=\u001b[0m \u001b[0maxis\u001b[0m\u001b[0;34m.\u001b[0m\u001b[0mdrop\u001b[0m\u001b[0;34m(\u001b[0m\u001b[0mlabels\u001b[0m\u001b[0;34m,\u001b[0m \u001b[0mlevel\u001b[0m\u001b[0;34m=\u001b[0m\u001b[0mlevel\u001b[0m\u001b[0;34m,\u001b[0m \u001b[0merrors\u001b[0m\u001b[0;34m=\u001b[0m\u001b[0merrors\u001b[0m\u001b[0;34m)\u001b[0m\u001b[0;34m\u001b[0m\u001b[0m\n\u001b[1;32m   3811\u001b[0m             \u001b[0;32melse\u001b[0m\u001b[0;34m:\u001b[0m\u001b[0;34m\u001b[0m\u001b[0m\n\u001b[0;32m-> 3812\u001b[0;31m                 \u001b[0mnew_axis\u001b[0m \u001b[0;34m=\u001b[0m \u001b[0maxis\u001b[0m\u001b[0;34m.\u001b[0m\u001b[0mdrop\u001b[0m\u001b[0;34m(\u001b[0m\u001b[0mlabels\u001b[0m\u001b[0;34m,\u001b[0m \u001b[0merrors\u001b[0m\u001b[0;34m=\u001b[0m\u001b[0merrors\u001b[0m\u001b[0;34m)\u001b[0m\u001b[0;34m\u001b[0m\u001b[0m\n\u001b[0m\u001b[1;32m   3813\u001b[0m             \u001b[0mresult\u001b[0m \u001b[0;34m=\u001b[0m \u001b[0mself\u001b[0m\u001b[0;34m.\u001b[0m\u001b[0mreindex\u001b[0m\u001b[0;34m(\u001b[0m\u001b[0;34m**\u001b[0m\u001b[0;34m{\u001b[0m\u001b[0maxis_name\u001b[0m\u001b[0;34m:\u001b[0m \u001b[0mnew_axis\u001b[0m\u001b[0;34m}\u001b[0m\u001b[0;34m)\u001b[0m\u001b[0;34m\u001b[0m\u001b[0m\n\u001b[1;32m   3814\u001b[0m \u001b[0;34m\u001b[0m\u001b[0m\n",
      "\u001b[0;32m/anaconda2/lib/python2.7/site-packages/pandas/core/indexes/base.pyc\u001b[0m in \u001b[0;36mdrop\u001b[0;34m(self, labels, errors)\u001b[0m\n\u001b[1;32m   4963\u001b[0m             \u001b[0;32mif\u001b[0m \u001b[0merrors\u001b[0m \u001b[0;34m!=\u001b[0m \u001b[0;34m'ignore'\u001b[0m\u001b[0;34m:\u001b[0m\u001b[0;34m\u001b[0m\u001b[0m\n\u001b[1;32m   4964\u001b[0m                 raise KeyError(\n\u001b[0;32m-> 4965\u001b[0;31m                     '{} not found in axis'.format(labels[mask]))\n\u001b[0m\u001b[1;32m   4966\u001b[0m             \u001b[0mindexer\u001b[0m \u001b[0;34m=\u001b[0m \u001b[0mindexer\u001b[0m\u001b[0;34m[\u001b[0m\u001b[0;34m~\u001b[0m\u001b[0mmask\u001b[0m\u001b[0;34m]\u001b[0m\u001b[0;34m\u001b[0m\u001b[0m\n\u001b[1;32m   4967\u001b[0m         \u001b[0;32mreturn\u001b[0m \u001b[0mself\u001b[0m\u001b[0;34m.\u001b[0m\u001b[0mdelete\u001b[0m\u001b[0;34m(\u001b[0m\u001b[0mindexer\u001b[0m\u001b[0;34m)\u001b[0m\u001b[0;34m\u001b[0m\u001b[0m\n",
      "\u001b[0;31mKeyError\u001b[0m: \"['\\\\xd7\\\\x9e\\\\xd7\\\\xa1\\\\xd7\\\\xa4\\\\xd7\\\\xa8 \\\\xd7\\\\xa7\\\\xd7\\\\x9c\\\\xd7\\\\xa4\\\\xd7\\\\x99'] not found in axis\""
     ]
    }
   ],
   "source": [
    "knesset21elections = pd.read_excel(r\"Knesset Elections/-21-.xlsx\")\n",
    "knesset21elections = knesset21elections.drop(\"מספר קלפי\", axis=1)\n",
    "knesset21elections = knesset21elections.groupby(by=[\"שם ישוב\",\"סמל ישוב\" ], axis=0).sum()\n",
    "\n",
    "\n",
    "knesset20elections = pd.read_excel(r\"Knesset Elections\\-20-.xlsx\")\n",
    "knesset20elections = knesset20elections.drop(\"מספר קלפי\", axis=1)\n",
    "knesset20elections = knesset20elections.groupby(by=[\"שם ישוב\",\"סמל ישוב\" ], axis=0).sum()\n",
    "\n",
    "knesset19elections = pd.read_excel(r\"Knesset Elections\\-19-.xlsx\")\n",
    "knesset19elections = knesset19elections.drop(\"מספר קלפי\", axis=1)\n",
    "knesset19elections = knesset19elections.groupby(by=[\"שם ישוב\",\"סמל ישוב\" ], axis=0).sum()\n",
    "\n",
    "knesset18elections = pd.read_excel(r\"Knesset Elections\\-18-.xlsx\")\n",
    "knesset18elections = knesset18elections.drop(\"סמל קלפי\", axis=1)\n",
    "knesset18elections = knesset18elections.groupby(by=[\"שם ישוב\",\"סמל ישוב\" ], axis=0).sum()\n",
    "\n",
    "knesset17elections = pd.read_excel(r\"Knesset Elections\\-17-2006.xls\")\n",
    "knesset17elections = knesset17elections.drop(\"מספר קלפי\", axis=1)\n",
    "knesset17elections = knesset17elections.groupby(by=[\"שם ישוב\",\"סמל ישוב\" ], axis=0).sum()\n",
    "\n",
    "\n",
    "knesset16elections = pd.read_excel(r\"Knesset Elections\\-16-2003.xls\")\n",
    "knesset16elections = knesset16elections.drop(\"סמל קלפי\", axis=1)\n",
    "knesset16elections = knesset16elections.groupby(by=[\"שם ישוב\",\"סמל ישוב\" ], axis=0).sum()\n",
    "\n",
    "\n",
    "knesset15elections = pd.read_excel(r\"Knesset Elections\\-15-1999-.xls\")\n",
    "knesset15elections = knesset15elections.drop(\"מס' רץ\", axis=1).drop(\"קלפי\", axis=1).drop(\"פיצול\", axis=1).drop(\"נפה\", axis=1)\n",
    "knesset15elections = knesset15elections.groupby(by=[\"שם ישוב\",\"סמל ישוב\" ], axis=0).sum()\n",
    "\n",
    "\n",
    "knesset14elections = pd.read_excel(r\"Knesset Elections\\-14-1996-.xls\")\n",
    "knesset14elections = knesset14elections.drop(\"סמל קלפי\", axis=1).drop(\"כתובת\", axis=1).drop(\"פיצול\", axis=1)\n",
    "knesset14elections = knesset14elections.groupby(by=[\"שם ישוב\",\"סמל ישוב\" ], axis=0).sum()"
   ]
  },
  {
   "cell_type": "code",
   "execution_count": 3,
   "metadata": {},
   "outputs": [
    {
     "ename": "NameError",
     "evalue": "name 'knesset21elections' is not defined",
     "output_type": "error",
     "traceback": [
      "\u001b[0;31m---------------------------------------------------------------------------\u001b[0m",
      "\u001b[0;31mNameError\u001b[0m                                 Traceback (most recent call last)",
      "\u001b[0;32m<ipython-input-3-57625d838775>\u001b[0m in \u001b[0;36m<module>\u001b[0;34m()\u001b[0m\n\u001b[1;32m    102\u001b[0m \u001b[0;34m\u001b[0m\u001b[0m\n\u001b[1;32m    103\u001b[0m \u001b[0;34m\u001b[0m\u001b[0m\n\u001b[0;32m--> 104\u001b[0;31m \u001b[0mahuzey_hatzbaa21\u001b[0m \u001b[0;34m=\u001b[0m \u001b[0;34m(\u001b[0m\u001b[0mknesset21elections\u001b[0m\u001b[0;34m[\u001b[0m\u001b[0;34m\"מצביעים\"\u001b[0m\u001b[0;34m]\u001b[0m\u001b[0;34m.\u001b[0m\u001b[0msum\u001b[0m\u001b[0;34m(\u001b[0m\u001b[0;34m)\u001b[0m \u001b[0;34m/\u001b[0m \u001b[0mknesset21elections\u001b[0m\u001b[0;34m[\u001b[0m\u001b[0;34m\"בזב\"\u001b[0m\u001b[0;34m]\u001b[0m\u001b[0;34m.\u001b[0m\u001b[0msum\u001b[0m\u001b[0;34m(\u001b[0m\u001b[0;34m)\u001b[0m\u001b[0;34m)\u001b[0m\u001b[0;31m#.sort_values(ascending=False)\u001b[0m\u001b[0;34m\u001b[0m\u001b[0m\n\u001b[0m\u001b[1;32m    105\u001b[0m \u001b[0;34m\u001b[0m\u001b[0m\n\u001b[1;32m    106\u001b[0m \u001b[0mahuzey_hatzbaa21\u001b[0m\u001b[0;34m\u001b[0m\u001b[0m\n",
      "\u001b[0;31mNameError\u001b[0m: name 'knesset21elections' is not defined"
     ]
    }
   ],
   "source": [
    "def totalSum(electionDataframe):\n",
    "    return electionDataframe[\"Arabs\"] + electionDataframe[\"Center\"] + electionDataframe[\"Left\"] + electionDataframe[\"Right\"] + electionDataframe[\"Orthodox\"]\n",
    "\n",
    "def classified_summed_votes_list(electionsDataframe):\n",
    "    return [electionsDataframe[\"Arabs\"].sum(), electionsDataframe[\"Center\"].sum(), electionsDataframe[\"Left\"].sum(), electionsDataframe[\"Right\"].sum(), electionsDataframe[\"Orthodox\"].sum()]\n",
    "\n",
    "def divideParties_into5classess(electionDataframe):\n",
    "    arabs = []\n",
    "    orthodox = []\n",
    "    right = []\n",
    "    left = []\n",
    "    center = []\n",
    "    \n",
    "    if(electionDataframe.columns.contains(\"דעם\")):\n",
    "        arabs += [\"דעם\"]\n",
    "    if(electionDataframe.columns.contains(\"ודעם\")):\n",
    "        arabs += [\"ודעם\"] \n",
    "    if(electionDataframe.columns.contains(\"עם\")):\n",
    "        arabs += [\"עם\"]\n",
    "    if(electionDataframe.columns.contains(\"ום\")):\n",
    "        arabs += [\"ום\"]\n",
    "    if(electionDataframe.columns.contains(\"ע\")):\n",
    "        arabs += [\"ע\"]\n",
    "    if(electionDataframe.columns.contains(\"ו\")):\n",
    "        arabs += [\"ו\"]\n",
    "    if(electionDataframe.columns.contains(\"ד\")):\n",
    "        arabs += [\"ד\"]\n",
    "        \n",
    "    if(electionDataframe.columns.contains(\"שס\")):\n",
    "        orthodox += [\"שס\"]\n",
    "    if(electionDataframe.columns.contains(\"ג\")):\n",
    "        orthodox += [\"ג\"]\n",
    "\n",
    "    if(electionDataframe.columns.contains(\"מחל\")):\n",
    "        right += [\"מחל\"]\n",
    "    if(electionDataframe.columns.contains(\"ל\")):\n",
    "        right += [\"ל\"]\n",
    "    if(electionDataframe.columns.contains(\"טב\")):\n",
    "        right += [\"טב\"]\n",
    "    if(electionDataframe.columns.contains(\"כ\")):\n",
    "        right += [\"כ\"]\n",
    "    if(electionDataframe.columns.contains(\"ט\")):\n",
    "        right += [\"ט\"]\n",
    "    if(electionDataframe.columns.contains(\"ב\")):\n",
    "        right += [\"ב\"]        \n",
    "    if(electionDataframe.columns.contains(\"יט\")):\n",
    "        right += [\"יט\"]        \n",
    "           \n",
    "    if(electionDataframe.columns.contains(\"אמת\")):\n",
    "        left += [\"אמת\"]\n",
    "    if(electionDataframe.columns.contains(\"מרצ\")):\n",
    "        left += [\"מרצ\"]\n",
    "    if(electionDataframe.columns.contains(\"מרץ\")):\n",
    "        left += [\"מרץ\"]\n",
    "    if(electionDataframe.columns.contains(\"צפ\")):\n",
    "        left += [\"צפ\"]\n",
    "    if(electionDataframe.columns.contains(\"ם\")):\n",
    "        left += [\"ם\"]\n",
    "    if(electionDataframe.columns.contains(\"זך\")):\n",
    "        left += [\"זך\"]\n",
    "                   \n",
    "    if(electionDataframe.columns.contains(\"כן\")):\n",
    "        center += [\"כן\"]\n",
    "    if(electionDataframe.columns.contains(\"פה\")):\n",
    "        center += [\"פה\"]\n",
    "    if(electionDataframe.columns.contains(\"הד\")):\n",
    "        center += [\"הד\"]\n",
    "    if(electionDataframe.columns.contains(\"יש\")):\n",
    "        center += [\"יש\"]\n",
    "        \n",
    "    electionDataframe[\"Arabs\"] = 0\n",
    "    for party_name in arabs:\n",
    "        electionDataframe[\"Arabs\"] += electionDataframe[party_name]\n",
    "    \n",
    "    electionDataframe[\"Left\"] = 0\n",
    "    for party_name in left:\n",
    "        electionDataframe[\"Left\"] += electionDataframe[party_name]\n",
    "    \n",
    "    electionDataframe[\"Right\"] = 0\n",
    "    for party_name in right:\n",
    "        electionDataframe[\"Right\"] += electionDataframe[party_name]\n",
    "    \n",
    "    electionDataframe[\"Center\"] = 0\n",
    "    for party_name in center:\n",
    "        electionDataframe[\"Center\"] += electionDataframe[party_name]\n",
    "    \n",
    "    electionDataframe[\"Orthodox\"] = 0\n",
    "    for party_name in orthodox:\n",
    "        electionDataframe[\"Orthodox\"] += electionDataframe[party_name]\n",
    "    \n",
    "    afterclassifiying = totalSum(electionDataframe)\n",
    "    lost_votes = electionDataframe[\"כשרים\"].sum() - afterclassifiying.sum() \n",
    "    print(\"lost votes: \",lost_votes)\n",
    "    print(arabs,center,left,right,orthodox)\n",
    "    cols_to_drop = np.arange(4,len(electionDataframe.columns)-5)\n",
    "    \n",
    "    return electionDataframe.drop(electionDataframe.columns[cols_to_drop], axis=1)\n",
    "\n",
    " \n",
    "\n",
    "\n",
    "    \n",
    "    \n",
    "ahuzey_hatzbaa21 = (knesset21elections[\"מצביעים\"].sum() / knesset21elections[\"בזב\"].sum())#.sort_values(ascending=False)\n",
    "\n",
    "ahuzey_hatzbaa21"
   ]
  },
  {
   "cell_type": "code",
   "execution_count": 4,
   "metadata": {
    "scrolled": false
   },
   "outputs": [
    {
     "ename": "NameError",
     "evalue": "name 'knesset21elections' is not defined",
     "output_type": "error",
     "traceback": [
      "\u001b[0;31m---------------------------------------------------------------------------\u001b[0m",
      "\u001b[0;31mNameError\u001b[0m                                 Traceback (most recent call last)",
      "\u001b[0;32m<ipython-input-4-ef52c4313030>\u001b[0m in \u001b[0;36m<module>\u001b[0;34m()\u001b[0m\n\u001b[1;32m      2\u001b[0m \u001b[0;31m#=============  21 ====================\u001b[0m\u001b[0;34m\u001b[0m\u001b[0;34m\u001b[0m\u001b[0m\n\u001b[1;32m      3\u001b[0m \u001b[0;34m\u001b[0m\u001b[0m\n\u001b[0;32m----> 4\u001b[0;31m \u001b[0mknesset21elections\u001b[0m \u001b[0;34m=\u001b[0m \u001b[0mdivideParties_into5classess\u001b[0m\u001b[0;34m(\u001b[0m\u001b[0mknesset21elections\u001b[0m\u001b[0;34m)\u001b[0m\u001b[0;34m\u001b[0m\u001b[0m\n\u001b[0m\u001b[1;32m      5\u001b[0m \u001b[0;34m\u001b[0m\u001b[0m\n\u001b[1;32m      6\u001b[0m \u001b[0;31m#=============  20 ====================\u001b[0m\u001b[0;34m\u001b[0m\u001b[0;34m\u001b[0m\u001b[0m\n",
      "\u001b[0;31mNameError\u001b[0m: name 'knesset21elections' is not defined"
     ]
    }
   ],
   "source": [
    "\n",
    "#=============  21 ====================\n",
    "\n",
    "knesset21elections = divideParties_into5classess(knesset21elections)\n",
    "\n",
    "#=============  20 ====================\n",
    "\n",
    "knesset20elections = divideParties_into5classess(knesset20elections)\n",
    "\n",
    "#============= 19 ===========================\n",
    "\n",
    "knesset19elections = divideParties_into5classess(knesset19elections)\n",
    "\n",
    "#============= 18 ===========================\n",
    "\n",
    "knesset18elections = divideParties_into5classess(knesset18elections)\n",
    "\n",
    "#============= 17 ===========================\n",
    "\n",
    "knesset17elections = divideParties_into5classess(knesset17elections)\n",
    "\n",
    "#============= 16 ===========================\n",
    "\n",
    "knesset16elections = divideParties_into5classess(knesset16elections)\n",
    "\n",
    "#============= 15 ===========================\n",
    "\n",
    "knesset15elections = divideParties_into5classess(knesset15elections)\n",
    "\n",
    "#============= 14 ===========================\n",
    "\n",
    "knesset14elections = divideParties_into5classess(knesset14elections)\n"
   ]
  },
  {
   "cell_type": "code",
   "execution_count": 5,
   "metadata": {},
   "outputs": [
    {
     "ename": "NameError",
     "evalue": "name 'knesset21elections' is not defined",
     "output_type": "error",
     "traceback": [
      "\u001b[0;31m---------------------------------------------------------------------------\u001b[0m",
      "\u001b[0;31mNameError\u001b[0m                                 Traceback (most recent call last)",
      "\u001b[0;32m<ipython-input-5-b90c174413ef>\u001b[0m in \u001b[0;36m<module>\u001b[0;34m()\u001b[0m\n\u001b[0;32m----> 1\u001b[0;31m \u001b[0mknesset21elections\u001b[0m\u001b[0;34m\u001b[0m\u001b[0m\n\u001b[0m",
      "\u001b[0;31mNameError\u001b[0m: name 'knesset21elections' is not defined"
     ]
    }
   ],
   "source": [
    "knesset21elections"
   ]
  },
  {
   "cell_type": "code",
   "execution_count": 6,
   "metadata": {},
   "outputs": [
    {
     "ename": "NameError",
     "evalue": "name 'knesset21elections' is not defined",
     "output_type": "error",
     "traceback": [
      "\u001b[0;31m---------------------------------------------------------------------------\u001b[0m",
      "\u001b[0;31mNameError\u001b[0m                                 Traceback (most recent call last)",
      "\u001b[0;32m<ipython-input-6-c7a3f3c39482>\u001b[0m in \u001b[0;36m<module>\u001b[0;34m()\u001b[0m\n\u001b[1;32m      3\u001b[0m \u001b[0mcolors\u001b[0m \u001b[0;34m=\u001b[0m \u001b[0;34m[\u001b[0m\u001b[0;34m'purple'\u001b[0m\u001b[0;34m,\u001b[0m \u001b[0;34m\"yellowgreen\"\u001b[0m \u001b[0;34m,\u001b[0m \u001b[0;34m\"lightskyblue\"\u001b[0m\u001b[0;34m,\u001b[0m \u001b[0;34m'indianred'\u001b[0m\u001b[0;34m,\u001b[0m \u001b[0;34m\"darkorange\"\u001b[0m \u001b[0;34m]\u001b[0m\u001b[0;34m\u001b[0m\u001b[0m\n\u001b[1;32m      4\u001b[0m \u001b[0;34m\u001b[0m\u001b[0m\n\u001b[0;32m----> 5\u001b[0;31m \u001b[0msizes21\u001b[0m \u001b[0;34m=\u001b[0m \u001b[0mclassified_summed_votes_list\u001b[0m\u001b[0;34m(\u001b[0m\u001b[0mknesset21elections\u001b[0m\u001b[0;34m)\u001b[0m\u001b[0;34m\u001b[0m\u001b[0m\n\u001b[0m\u001b[1;32m      6\u001b[0m \u001b[0msizes20\u001b[0m \u001b[0;34m=\u001b[0m \u001b[0mclassified_summed_votes_list\u001b[0m\u001b[0;34m(\u001b[0m\u001b[0mknesset20elections\u001b[0m\u001b[0;34m)\u001b[0m\u001b[0;34m\u001b[0m\u001b[0m\n\u001b[1;32m      7\u001b[0m \u001b[0msizes19\u001b[0m \u001b[0;34m=\u001b[0m \u001b[0mclassified_summed_votes_list\u001b[0m\u001b[0;34m(\u001b[0m\u001b[0mknesset19elections\u001b[0m\u001b[0;34m)\u001b[0m\u001b[0;34m\u001b[0m\u001b[0m\n",
      "\u001b[0;31mNameError\u001b[0m: name 'knesset21elections' is not defined"
     ]
    }
   ],
   "source": [
    "\n",
    "labels = \"Arabs\", \"Center\", \"Left\", \"Right\" , \"Orthodox\";\n",
    "colors = ['purple', \"yellowgreen\" , \"lightskyblue\", 'indianred', \"darkorange\" ]\n",
    "\n",
    "sizes21 = classified_summed_votes_list(knesset21elections)\n",
    "sizes20 = classified_summed_votes_list(knesset20elections)\n",
    "sizes19 = classified_summed_votes_list(knesset19elections)\n",
    "sizes18 = classified_summed_votes_list(knesset18elections)\n",
    "sizes17 = classified_summed_votes_list(knesset17elections)\n",
    "sizes16 = classified_summed_votes_list(knesset16elections)\n",
    "sizes15 = classified_summed_votes_list(knesset15elections)\n",
    "sizes14 = classified_summed_votes_list(knesset14elections)\n",
    " \n",
    "    \n",
    "fig = plt.figure(figsize=(18,14))\n",
    "\n",
    "# Plot 21st Elections\n",
    "ax1 = plt.subplot(3,3,1)\n",
    "ax1.pie(sizes21, labels=labels, colors=colors, autopct='%1.1f%%', shadow=True, startangle=140)\n",
    "ax1.set_title('21st Knesset Elections')\n",
    "ax1.axis('equal')\n",
    "\n",
    "# Plot 20th Elections\n",
    "ax2 = plt.subplot(3,3,2)\n",
    "ax2.pie(sizes20, labels=labels, colors=colors, autopct='%1.1f%%', shadow=True, startangle=140)\n",
    "ax2.set_title('20th Knesset Elections')\n",
    "ax2.axis('equal')\n",
    "\n",
    "# Plot 19th Elections\n",
    "ax3 = plt.subplot(3,3,3)\n",
    "ax3.pie(sizes19, labels=labels, colors=colors, autopct='%1.1f%%', shadow=True, startangle=140)\n",
    "ax3.set_title('19th Knesset Elections')\n",
    "ax3.axis('equal')\n",
    "\n",
    "# Plot 18th Elections\n",
    "ax4 = plt.subplot(3,3,4)\n",
    "ax4.pie(sizes18, labels=labels, colors=colors, autopct='%1.1f%%', shadow=True, startangle=140)\n",
    "ax4.set_title('18th Knesset Elections')\n",
    "ax4.axis('equal')\n",
    "\n",
    "# Plot 17th Elections\n",
    "ax4 = plt.subplot(3,3,5)\n",
    "ax4.pie(sizes17, labels=labels, colors=colors, autopct='%1.1f%%', shadow=True, startangle=140)\n",
    "ax4.set_title('17th Knesset Elections')\n",
    "ax4.axis('equal')\n",
    "\n",
    "# Plot 16th Elections\n",
    "ax4 = plt.subplot(3,3,6)\n",
    "ax4.pie(sizes16, labels=labels, colors=colors, autopct='%1.1f%%', shadow=True, startangle=140)\n",
    "ax4.set_title('16th Knesset Elections')\n",
    "ax4.axis('equal')\n",
    "\n",
    "# Plot 15th Elections\n",
    "ax4 = plt.subplot(3,3,7)\n",
    "ax4.pie(sizes15, labels=labels, colors=colors, autopct='%1.1f%%', shadow=True, startangle=140)\n",
    "ax4.set_title('15th Knesset Elections')\n",
    "ax4.axis('equal')\n",
    "\n",
    "# Plot 14th Elections\n",
    "ax4 = plt.subplot(3,3,8)\n",
    "ax4.pie(sizes14, labels=labels, colors=colors, autopct='%1.1f%%', shadow=True, startangle=140)\n",
    "ax4.set_title('14th Knesset Elections')\n",
    "ax4.axis('equal')\n",
    "plt.show()"
   ]
  },
  {
   "cell_type": "code",
   "execution_count": 7,
   "metadata": {
    "scrolled": false
   },
   "outputs": [
    {
     "ename": "NameError",
     "evalue": "name 'knesset21elections' is not defined",
     "output_type": "error",
     "traceback": [
      "\u001b[0;31m---------------------------------------------------------------------------\u001b[0m",
      "\u001b[0;31mNameError\u001b[0m                                 Traceback (most recent call last)",
      "\u001b[0;32m<ipython-input-7-e22d2684333a>\u001b[0m in \u001b[0;36m<module>\u001b[0;34m()\u001b[0m\n\u001b[1;32m      2\u001b[0m \u001b[0;34m\u001b[0m\u001b[0m\n\u001b[1;32m      3\u001b[0m \u001b[0max1\u001b[0m \u001b[0;34m=\u001b[0m \u001b[0mplt\u001b[0m\u001b[0;34m.\u001b[0m\u001b[0msubplot\u001b[0m\u001b[0;34m(\u001b[0m\u001b[0;36m2\u001b[0m\u001b[0;34m,\u001b[0m\u001b[0;36m2\u001b[0m\u001b[0;34m,\u001b[0m\u001b[0;36m1\u001b[0m\u001b[0;34m)\u001b[0m\u001b[0;34m\u001b[0m\u001b[0m\n\u001b[0;32m----> 4\u001b[0;31m \u001b[0msizes_arabs\u001b[0m \u001b[0;34m=\u001b[0m \u001b[0mclassified_summed_votes_list\u001b[0m\u001b[0;34m(\u001b[0m\u001b[0mknesset21elections\u001b[0m\u001b[0;34m.\u001b[0m\u001b[0mloc\u001b[0m\u001b[0;34m[\u001b[0m\u001b[0;34m\"ערב אל נעים\"\u001b[0m\u001b[0;34m]\u001b[0m\u001b[0;34m)\u001b[0m\u001b[0;34m\u001b[0m\u001b[0m\n\u001b[0m\u001b[1;32m      5\u001b[0m \u001b[0max1\u001b[0m\u001b[0;34m.\u001b[0m\u001b[0mpie\u001b[0m\u001b[0;34m(\u001b[0m\u001b[0msizes_arabs\u001b[0m\u001b[0;34m,\u001b[0m \u001b[0mlabels\u001b[0m\u001b[0;34m=\u001b[0m\u001b[0mlabels\u001b[0m\u001b[0;34m,\u001b[0m \u001b[0mcolors\u001b[0m\u001b[0;34m=\u001b[0m\u001b[0mcolors\u001b[0m\u001b[0;34m,\u001b[0m \u001b[0mautopct\u001b[0m\u001b[0;34m=\u001b[0m\u001b[0;34m'%1.1f%%'\u001b[0m\u001b[0;34m,\u001b[0m \u001b[0mshadow\u001b[0m\u001b[0;34m=\u001b[0m\u001b[0mTrue\u001b[0m\u001b[0;34m,\u001b[0m \u001b[0mstartangle\u001b[0m\u001b[0;34m=\u001b[0m\u001b[0;36m140\u001b[0m\u001b[0;34m)\u001b[0m\u001b[0;34m\u001b[0m\u001b[0m\n\u001b[1;32m      6\u001b[0m \u001b[0mtitle\u001b[0m \u001b[0;34m=\u001b[0m \u001b[0;34m\"ערב אל נעים - כפר בדואי בגליל תחתון \"\u001b[0m\u001b[0;34m\u001b[0m\u001b[0m\n",
      "\u001b[0;31mNameError\u001b[0m: name 'knesset21elections' is not defined"
     ]
    },
    {
     "data": {
      "image/png": "[encoded data removed]",
      "text/plain": [
       "<Figure size 1080x720 with 1 Axes>"
      ]
     },
     "metadata": {
      "needs_background": "light"
     },
     "output_type": "display_data"
    }
   ],
   "source": [
    "fig = plt.figure(figsize=(15,10))\n",
    "\n",
    "ax1 = plt.subplot(2,2,1)\n",
    "sizes_arabs = classified_summed_votes_list(knesset21elections.loc[\"ערב אל נעים\"])\n",
    "ax1.pie(sizes_arabs, labels=labels, colors=colors, autopct='%1.1f%%', shadow=True, startangle=140)\n",
    "title = \"ערב אל נעים - כפר בדואי בגליל תחתון \"\n",
    "ax1.set_title(title[::-1])\n",
    "ax1.axis('equal')\n",
    "\n",
    "ax2 = plt.subplot(2,2,2)\n",
    "sizes_arabs = classified_summed_votes_list(knesset21elections.loc[\"עראבה\"])\n",
    "ax2.pie(sizes_arabs, labels=labels, colors=colors, autopct='%1.1f%%', shadow=True, startangle=140)\n",
    "title1 = \"עראבה - ישוב בדואי קטן בגליל תחתון\"\n",
    "ax2.set_title(title1[::-1])\n",
    "ax2.axis('equal')\n",
    "\n",
    "\n",
    "ax3 = plt.subplot(2,2,3)\n",
    "sizes_arabs = classified_summed_votes_list(knesset21elections.loc[\"עין חוד\"])\n",
    "ax3.pie(sizes_arabs, labels=labels, colors=colors, autopct='%1.1f%%', shadow=True, startangle=140)\n",
    "title2 = \"עין חוד - ישוב ערבי מוסלמי קטן ליד חיפה\"\n",
    "ax3.set_title(title2[::-1])\n",
    "ax3.axis('equal')\n",
    "\n",
    "ax3 = plt.subplot(2,2,4)\n",
    "sizes_arabs = classified_summed_votes_list(knesset21elections.loc[\"ע'ג'ר\"])\n",
    "ax3.pie(sizes_arabs, labels=labels, colors=colors, autopct='%1.1f%%', shadow=True, startangle=140)\n",
    "title3 = \"ע'ג'ר - כפר ערבי-מוסלמי בינוני באצבע הגליל\"\n",
    "ax3.set_title(title3[::-1])\n",
    "ax3.axis('equal')\n",
    "\n",
    "\n",
    "plt.show()\n",
    "\n",
    "fig = plt.figure(figsize=(14,7))\n",
    "\n",
    "fig.suptitle(\"Arab Settlements of the 21st Knesset Elections\")\n",
    "sizes_arabs = classified_summed_votes_list(knesset21elections[knesset21elections[\"Arabs\"] / knesset21elections[\"כשרים\"] > 0.21])\n",
    "plt.pie(sizes_arabs, labels=labels, colors=colors, autopct='%1.1f%%', shadow=True, startangle=140)\n",
    "plt.axis('equal')\n",
    "plt.show()\n",
    "\n",
    "arab_settlements = knesset21elections[knesset21elections[\"Arabs\"] / knesset21elections[\"כשרים\"] > 0.21]\n",
    "(arab_settlements[\"Arabs\"] / arab_settlements[\"כשרים\"]).sort_values(ascending=False)\n"
   ]
  },
  {
   "cell_type": "code",
   "execution_count": 8,
   "metadata": {},
   "outputs": [
    {
     "ename": "NameError",
     "evalue": "name 'knesset14elections' is not defined",
     "output_type": "error",
     "traceback": [
      "\u001b[0;31m---------------------------------------------------------------------------\u001b[0m",
      "\u001b[0;31mNameError\u001b[0m                                 Traceback (most recent call last)",
      "\u001b[0;32m<ipython-input-8-12b8e5943b84>\u001b[0m in \u001b[0;36m<module>\u001b[0;34m()\u001b[0m\n\u001b[0;32m----> 1\u001b[0;31m \u001b[0mboharim_percentage14\u001b[0m \u001b[0;34m=\u001b[0m \u001b[0mknesset14elections\u001b[0m\u001b[0;34m[\u001b[0m\u001b[0;34m'מצביעים'\u001b[0m\u001b[0;34m]\u001b[0m\u001b[0;34m/\u001b[0m\u001b[0mknesset14elections\u001b[0m\u001b[0;34m[\u001b[0m\u001b[0;34m'בוחרים'\u001b[0m\u001b[0;34m]\u001b[0m\u001b[0;34m\u001b[0m\u001b[0m\n\u001b[0m\u001b[1;32m      2\u001b[0m \u001b[0mboharim_percentage14\u001b[0m\u001b[0;34m.\u001b[0m\u001b[0msort_values\u001b[0m\u001b[0;34m(\u001b[0m\u001b[0mascending\u001b[0m\u001b[0;34m=\u001b[0m\u001b[0mFalse\u001b[0m\u001b[0;34m)\u001b[0m\u001b[0;34m\u001b[0m\u001b[0m\n\u001b[1;32m      3\u001b[0m \u001b[0;34m\u001b[0m\u001b[0m\n\u001b[1;32m      4\u001b[0m \u001b[0mpsulim_percentage\u001b[0m \u001b[0;34m=\u001b[0m \u001b[0mknesset19elections\u001b[0m\u001b[0;34m[\u001b[0m\u001b[0;34m\"פסולים\"\u001b[0m\u001b[0;34m]\u001b[0m\u001b[0;34m/\u001b[0m\u001b[0mknesset19elections\u001b[0m\u001b[0;34m[\u001b[0m\u001b[0;34m\"מצביעים\"\u001b[0m\u001b[0;34m]\u001b[0m\u001b[0;34m\u001b[0m\u001b[0m\n\u001b[1;32m      5\u001b[0m \u001b[0;32mprint\u001b[0m\u001b[0;34m(\u001b[0m\u001b[0mpsulim_percentage\u001b[0m\u001b[0;34m.\u001b[0m\u001b[0msort_values\u001b[0m\u001b[0;34m(\u001b[0m\u001b[0mascending\u001b[0m\u001b[0;34m=\u001b[0m\u001b[0mFalse\u001b[0m\u001b[0;34m)\u001b[0m\u001b[0;34m)\u001b[0m\u001b[0;34m\u001b[0m\u001b[0m\n",
      "\u001b[0;31mNameError\u001b[0m: name 'knesset14elections' is not defined"
     ]
    }
   ],
   "source": [
    "boharim_percentage14 = knesset14elections['מצביעים']/knesset14elections['בוחרים']\n",
    "boharim_percentage14.sort_values(ascending=False)\n",
    "\n",
    "psulim_percentage = knesset19elections[\"פסולים\"]/knesset19elections[\"מצביעים\"]\n",
    "print(psulim_percentage.sort_values(ascending=False))\n",
    "print(\"\\n\\n\")\n",
    "\n",
    "print(\"תל אביב\", psulim_percentage[\"תל אביב - יפו\"])\n",
    "print(\"\\n\\n\")\n",
    "print(\"ירושלים\",psulim_percentage[\"ירושלים\"])"
   ]
  },
  {
   "cell_type": "code",
   "execution_count": null,
   "metadata": {},
   "outputs": [],
   "source": []
  },
  {
   "cell_type": "code",
   "execution_count": null,
   "metadata": {},
   "outputs": [],
   "source": []
  },
  {
   "cell_type": "code",
   "execution_count": null,
   "metadata": {},
   "outputs": [],
   "source": []
  },
  {
   "cell_type": "code",
   "execution_count": null,
   "metadata": {},
   "outputs": [],
   "source": []
  }
 ],
 "metadata": {
  "kernelspec": {
   "display_name": "Python 2",
   "language": "python",
   "name": "python2"
  },
  "language_info": {
   "codemirror_mode": {
    "name": "ipython",
    "version": 2
   },
   "file_extension": ".py",
   "mimetype": "text/x-python",
   "name": "python",
   "nbconvert_exporter": "python",
   "pygments_lexer": "ipython2",
   "version": "2.7.16"
  }
 },
 "nbformat": 4,
 "nbformat_minor": 2
}
